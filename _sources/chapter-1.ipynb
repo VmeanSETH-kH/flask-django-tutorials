{
 "cells": [
  {
   "cell_type": "markdown",
   "metadata": {},
   "source": [
    "# Flask Tutorials"
   ]
  },
  {
   "cell_type": "markdown",
   "metadata": {},
   "source": [
    "## [Installation](https://flask.palletsprojects.com/en/3.0.x/installation/)"
   ]
  },
  {
   "cell_type": "markdown",
   "metadata": {},
   "source": [
    "## [Quickstart](https://flask.palletsprojects.com/en/3.0.x/quickstart/)"
   ]
  },
  {
   "cell_type": "markdown",
   "metadata": {},
   "source": [
    "## [Example Project](https://github.com/pallets/flask/tree/main/examples/tutorial)"
   ]
  },
  {
   "cell_type": "markdown",
   "metadata": {},
   "source": [
    "## [Original Flask Documentations](https://flask.palletsprojects.com/en/3.0.x/) "
   ]
  }
 ],
 "metadata": {
  "language_info": {
   "name": "python"
  }
 },
 "nbformat": 4,
 "nbformat_minor": 2
}
