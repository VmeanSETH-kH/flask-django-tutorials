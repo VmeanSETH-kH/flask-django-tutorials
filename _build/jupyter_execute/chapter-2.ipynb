{
 "cells": [
  {
   "cell_type": "markdown",
   "metadata": {},
   "source": [
    "---\n",
    "# **Django Tutorials**\n",
    "---"
   ]
  },
  {
   "cell_type": "markdown",
   "metadata": {},
   "source": [
    "## What is `Dnango`?"
   ]
  },
  {
   "cell_type": "markdown",
   "metadata": {},
   "source": [
    "- `Django` is a `Python Framework` that makes it easier to create `web-site`s using `Python`\n",
    "- It takes care of the difficult stuff so that you can concentrate on building your `web applications`"
   ]
  },
  {
   "cell_type": "markdown",
   "metadata": {},
   "source": [
    "## How does `Django` work?"
   ]
  },
  {
   "cell_type": "markdown",
   "metadata": {},
   "source": [
    "- `Django` follows the `MVT` design pattern (`Model View Template`)\n",
    "    - `Model` - the data you want to present, usually data from a database (`DB`)\n",
    "    - `View` - a request hanlder that returns the relevant template and content, based on the request from `user`\n",
    "    - `Template` - a text file (`HTML`) containing the layout of the web page, with logic on how to display the data"
   ]
  },
  {
   "cell_type": "markdown",
   "metadata": {},
   "source": [
    "## `Model`"
   ]
  },
  {
   "cell_type": "markdown",
   "metadata": {},
   "source": [
    "- The model provide data from the `DB` (a `table` in your `DB`)\n",
    "- Technique - Object Relational Mapping (`ORM`)\n",
    "- `DB` - `SQL`\n",
    "- $\\rightarrow$ `models.py` - file name"
   ]
  },
  {
   "cell_type": "markdown",
   "metadata": {},
   "source": [
    "## `View`"
   ]
  },
  {
   "cell_type": "markdown",
   "metadata": {},
   "source": [
    "- A **view** is a function or methods that takes `http` requests as arguments, imports the relevant model(s), and finds out what data to send to the template, and return the final result\n",
    "- $\\rightarrow$ `view.py` - file name"
   ]
  },
  {
   "cell_type": "markdown",
   "metadata": {},
   "source": [
    "## `Template`"
   ]
  },
  {
   "cell_type": "markdown",
   "metadata": {},
   "source": [
    "- A file where you describe how the result should be represented\n",
    "- Usually, `HTML` code describing the layout of a web page\n",
    "- `Django` uses standard `HTML` to describe the layout, but uses `Django tag`s to add `logic`"
   ]
  },
  {
   "cell_type": "markdown",
   "metadata": {},
   "source": [
    "```html\n",
    "    <h1>My Homepage</h1>\n",
    "\n",
    "    <p>My name is {{ firstname }}.</p>\n",
    "```"
   ]
  },
  {
   "cell_type": "markdown",
   "metadata": {},
   "source": [
    "- $\\rightarrow$ `templates` - folder name "
   ]
  },
  {
   "cell_type": "markdown",
   "metadata": {},
   "source": [
    "## `URL`s"
   ]
  },
  {
   "cell_type": "markdown",
   "metadata": {},
   "source": [
    "- When a user requests a URL, Django decides which `view` it will sent to do\n",
    "- $\\rightarrow$ `urls.py` - file name"
   ]
  },
  {
   "cell_type": "markdown",
   "metadata": {},
   "source": [
    "## How is the Django web application working?"
   ]
  },
  {
   "cell_type": "markdown",
   "metadata": {},
   "source": [
    "1. Django receives the URL, checks the `urls.py` file, and calls the view that matches the URL\n",
    "2. The view, located in `view.py`, checks for relevant models\n",
    "3. The models are imported from the `models.py` file\n",
    "4. The view then sends the data to a specified template in the `template` folder\n",
    "5. The template contains HTML and Django tags, and with the data it returns finished HTML content back to the browser"
   ]
  },
  {
   "cell_type": "markdown",
   "metadata": {},
   "source": [
    "---\n",
    "## `Django Project`"
   ]
  },
  {
   "cell_type": "markdown",
   "metadata": {},
   "source": [
    "### Project name examples: \n",
    "- `personal_portfolio`\n",
    "- `my_tennis_club`"
   ]
  },
  {
   "cell_type": "markdown",
   "metadata": {},
   "source": [
    "## `Django App`s "
   ]
  },
  {
   "cell_type": "markdown",
   "metadata": {},
   "source": [
    "### What is an App?\n",
    "- A web application that has specific meaning in your project, like a home page, a contact form,  or a members database"
   ]
  },
  {
   "cell_type": "markdown",
   "metadata": {},
   "source": [
    "### App name examples:\n",
    "1. `pages`\n",
    "2. `projects`\n",
    "3. `members`"
   ]
  },
  {
   "cell_type": "markdown",
   "metadata": {},
   "source": [
    "## **Migrate**\n"
   ]
  },
  {
   "cell_type": "markdown",
   "metadata": {},
   "source": [
    "### We must run the command to actually create the `table` in the `DB`"
   ]
  },
  {
   "cell_type": "markdown",
   "metadata": {},
   "source": [
    "```console \n",
    "# Unix/Mac\n",
    "python manage.py makemigrations <Django-app-name>\n",
    "```"
   ]
  },
  {
   "cell_type": "markdown",
   "metadata": {},
   "source": [
    "```console\n",
    "python manage.py migrate\n",
    "```"
   ]
  },
  {
   "cell_type": "markdown",
   "metadata": {},
   "source": [
    "Now you have a `Model` table in your `DB`"
   ]
  },
  {
   "cell_type": "markdown",
   "metadata": {},
   "source": [
    "---\n",
    "## **View SQL**"
   ]
  },
  {
   "cell_type": "markdown",
   "metadata": {},
   "source": [
    "```console\n",
    "python manage.py sqlmigrate <app-name> <migrate-number>\n",
    "```\n",
    "Example:\n",
    "```console\n",
    "python manage.py sqlmigrate members 0001\n",
    "```"
   ]
  },
  {
   "cell_type": "markdown",
   "metadata": {},
   "source": [
    "---\n",
    "## **Add Records** "
   ]
  },
  {
   "cell_type": "markdown",
   "metadata": {},
   "source": [
    "We will use the Python interpreter (`Python Shell`) to add some members to it"
   ]
  },
  {
   "cell_type": "markdown",
   "metadata": {},
   "source": [
    "```console\n",
    "python manage.py shell\n",
    "```"
   ]
  },
  {
   "cell_type": "markdown",
   "metadata": {},
   "source": [
    "In the `Python Shell` write the following:"
   ]
  },
  {
   "cell_type": "markdown",
   "metadata": {},
   "source": [
    "```console\n",
    "from members.models import Member\n",
    "Member.objects.all()\n",
    "member = Member(firstname='Emil', lastname='Refsnes')\n",
    "member.save()\n",
    "Member.objects.all().values()\n",
    "```"
   ]
  },
  {
   "cell_type": "markdown",
   "metadata": {},
   "source": [
    "## **Add Multiple Records** "
   ]
  },
  {
   "cell_type": "markdown",
   "metadata": {},
   "source": [
    "```console\n",
    "member1 = Member(firstname='Tobias', lastname='Refsnes')\n",
    "member2 = Member(firstname='Linus', lastname='Refsnes')\n",
    "member3 = Member(firstname='Lene', lastname='Refsnes')\n",
    "member4 = Member(firstname='Stale', lastname='Refsnes')\n",
    "member5 = Member(firstname='Jane', lastname='Doe')\n",
    "members_list = [member1, member2, member3, member4, member5]\n",
    "for x in members_list:\n",
    "   x.save()\n",
    "Member.objects.all().values()\n",
    "```"
   ]
  },
  {
   "cell_type": "markdown",
   "metadata": {},
   "source": [
    "## **Update Records**"
   ]
  },
  {
   "cell_type": "markdown",
   "metadata": {},
   "source": [
    "```console\n",
    "from members.models import Member\n",
    "x = Member.objects.all()[4]\n",
    "\n",
    "x.firstname\n",
    "\n",
    "# change the values of this record\n",
    "x.firstname = \"Stalikken\"\n",
    "x.save()\n",
    "\n",
    "# Check to see if the Member table got updated\n",
    "Member.objects.all().values()\n",
    "```"
   ]
  },
  {
   "cell_type": "markdown",
   "metadata": {},
   "source": [
    "## **Delete Records**"
   ]
  },
  {
   "cell_type": "markdown",
   "metadata": {},
   "source": [
    "```console\n",
    "from members.models import Member\n",
    "x = Member.objects.all()[5]\n",
    "\n",
    "x.firstname\n",
    "\n",
    "x.delete()\n",
    "\n",
    "Member.objects.all().values()\n",
    "```"
   ]
  },
  {
   "cell_type": "markdown",
   "metadata": {},
   "source": [
    "---\n",
    "## **...** "
   ]
  },
  {
   "cell_type": "markdown",
   "metadata": {},
   "source": [
    "---\n",
    "## `ORM` (Object Relational Mapper)"
   ]
  },
  {
   "cell_type": "markdown",
   "metadata": {},
   "source": [
    "\n",
    "## `QuerySets`"
   ]
  },
  {
   "cell_type": "markdown",
   "metadata": {},
   "source": [
    "- Extract, filter, and sort data from database (`DB`)"
   ]
  },
  {
   "cell_type": "markdown",
   "metadata": {},
   "source": [
    "## `in development` (**run server locally on your computer**)"
   ]
  },
  {
   "cell_type": "markdown",
   "metadata": {},
   "source": [
    "## `in production` (**Deployed web-server online**)"
   ]
  },
  {
   "cell_type": "markdown",
   "metadata": {},
   "source": [
    "---\n",
    "## `PostgreSQL`"
   ]
  },
  {
   "cell_type": "markdown",
   "metadata": {},
   "source": [
    "### Install `pssycopg2` package"
   ]
  },
  {
   "cell_type": "markdown",
   "metadata": {},
   "source": [
    "```console\n",
    "pip install psycopg2-binary\n",
    "```"
   ]
  },
  {
   "cell_type": "markdown",
   "metadata": {},
   "source": [
    "## Where to Deploy? $\\rightarrow$ `AWS` (Amazon Web Services) "
   ]
  },
  {
   "cell_type": "markdown",
   "metadata": {},
   "source": [
    "- offer a free solution that can `host` both `Django projects` and      `PostgreSQL databases` "
   ]
  },
  {
   "cell_type": "markdown",
   "metadata": {},
   "source": [
    "## Add the `RDS` Service"
   ]
  },
  {
   "cell_type": "markdown",
   "metadata": {},
   "source": []
  },
  {
   "cell_type": "markdown",
   "metadata": {},
   "source": [
    "---\n",
    "## References"
   ]
  },
  {
   "cell_type": "markdown",
   "metadata": {},
   "source": [
    "- W3Schools, [Django Tutorial](https://www.w3schools.com/django/index.php)\n",
    "- Real Python, [Get Started With Django: Build a Portfolio App](https://realpython.com/get-started-with-django-1/#learn-django)"
   ]
  }
 ],
 "metadata": {
  "language_info": {
   "codemirror_mode": {
    "name": "ipython",
    "version": 3
   },
   "file_extension": ".py",
   "mimetype": "text/x-python",
   "name": "python",
   "nbconvert_exporter": "python",
   "pygments_lexer": "ipython3",
   "version": "3.12.0"
  }
 },
 "nbformat": 4,
 "nbformat_minor": 2
}