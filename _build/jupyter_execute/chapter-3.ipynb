{
 "cells": [
  {
   "cell_type": "markdown",
   "metadata": {},
   "source": [
    "# **`HTTP` Tutorials**"
   ]
  },
  {
   "cell_type": "markdown",
   "metadata": {},
   "source": [
    "- `HTTP` stands for **HyperText Transfer Protocol**\n",
    "- What is it?\n",
    "    - It's the set of rules for how `web browsers` and `servers` comminicate.\n",
    "- How does it work?\n",
    "    - When you visit a website,  your `browser` **sends** and `HTTP` **request** and the  `server` **responds** with the page's content\n",
    "    - `HTTP` was designed for `hypertext` (pages with `LINK`s and formatting), but now powers almost all `web-based communication` "
   ]
  },
  {
   "cell_type": "markdown",
   "metadata": {},
   "source": [
    "## `GET` (**something `from` a server**)"
   ]
  },
  {
   "cell_type": "markdown",
   "metadata": {},
   "source": [
    "- Purpose: Retrieve data from a server\n",
    "- Properties:\n",
    "    - Idempotent: Repeating the same `GET` request multiple times shouldn't produce any side effects on the server\n",
    "    - Cacheeable: Data from `GET` requests can be cached by the browsers and other intermediaries\n",
    "- Use cases:\n",
    "    - Search forms\n",
    "    - Fetching data for display\n",
    "    "
   ]
  },
  {
   "cell_type": "markdown",
   "metadata": {},
   "source": [
    "## `POST` (**something `to` a server**)"
   ]
  },
  {
   "cell_type": "markdown",
   "metadata": {},
   "source": [
    "- Purpose: Submit new data to a server for processing and creating a new resource \\\n",
    "    Ex: sending updates back to the server`\n",
    "\n",
    "- Properties:\n",
    "    - Not idempotent: Multiple `POST` requests to the endpoint can trigger repetitive actions. \\ \n",
    "    Ex: posting comments \n",
    "    - Not cacheable: Responses from `POST` shouldn't be cached\n",
    "- Use cases: \n",
    "    - contact forms\n",
    "    - creating blog posts\n",
    "    - uploding files"
   ]
  },
  {
   "cell_type": "markdown",
   "metadata": {},
   "source": [
    "## `PUT` (**`overwriting`**)"
   ]
  },
  {
   "cell_type": "markdown",
   "metadata": {},
   "source": [
    "- Purpose: Update or replace an existing resource on the server \\\n",
    "Ex: overwriting a specific piece of data\n",
    "- Properties:\n",
    "    - Idempotent: Repeating the same `PUT` request with the same data should yield the same result\n"
   ]
  },
  {
   "cell_type": "markdown",
   "metadata": {},
   "source": [
    "## **Key Points**"
   ]
  },
  {
   "cell_type": "markdown",
   "metadata": {},
   "source": [
    "- **Form Submissions**\n",
    "    - `HTML` forms by default can only use `GET` and `POST`\n",
    "    - Use  `JavaScript` or backend workarounds for `PUT` on forms"
   ]
  }
 ],
 "metadata": {
  "language_info": {
   "codemirror_mode": {
    "name": "ipython",
    "version": 3
   },
   "file_extension": ".py",
   "mimetype": "text/x-python",
   "name": "python",
   "nbconvert_exporter": "python",
   "pygments_lexer": "ipython3",
   "version": "3.12.0"
  }
 },
 "nbformat": 4,
 "nbformat_minor": 2
}